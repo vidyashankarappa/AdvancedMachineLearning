{
  "cells": [
    {
      "cell_type": "markdown",
      "metadata": {
        "id": "roTzn8OVRvh2"
      },
      "source": [
        "# Week 3: Spark MLlib Lab with Pipelines\n",
        "\n",
        "In this notebook, we'll explore Apache Spark's MLlib library using ML Pipelines for a more structured workflow:\n",
        "\n",
        "- Data Preprocessing & Feature Engineering using Pipeline stages\n",
        "- Classification & Regression Models as Pipeline stages\n",
        "- Model Evaluation and Hyperparameter Tuning with CrossValidator\n",
        "\n",
        "We'll be working with the Wine Quality (White) dataset.\n",
        "\n",
        "**Dataset URL**: https://archive.ics.uci.edu/ml/machine-learning-databases/wine-quality/winequality-white.csv"
      ]
    },
    {
      "cell_type": "markdown",
      "metadata": {
        "id": "-7G-O3B1Rvh4"
      },
      "source": [
        "## Import Spark MLlib Libraries (with Pipeline imports)"
      ]
    },
    {
      "cell_type": "code",
      "execution_count": null,
      "metadata": {
        "id": "Hb2xLG8vRvh4"
      },
      "outputs": [],
      "source": [
        "from pyspark.sql import SparkSession\n",
        "from pyspark.ml import Pipeline\n",
        "from pyspark.ml.feature import VectorAssembler\n",
        "from pyspark.ml.classification import LogisticRegression, DecisionTreeClassifier, RandomForestClassifier\n",
        "from pyspark.ml.regression import LinearRegression\n",
        "from pyspark.ml.evaluation import MulticlassClassificationEvaluator, RegressionEvaluator\n",
        "from pyspark.ml.tuning import ParamGridBuilder, CrossValidator\n",
        "\n",
        "# Create a Spark session\n",
        "spark = SparkSession.builder \\\n",
        "    .appName(\"Week3SparkSession\") \\\n",
        "    .getOrCreate()"
      ]
    },
    {
      "cell_type": "markdown",
      "source": [],
      "metadata": {
        "id": "-0ViYyRNTiQx"
      }
    },
    {
      "cell_type": "markdown",
      "metadata": {
        "id": "qXwGFIoiRvh5"
      },
      "source": [
        "## Load Wine Quality Data"
      ]
    },
    {
      "cell_type": "code",
      "execution_count": null,
      "metadata": {
        "id": "IE6G8VU_Rvh5",
        "colab": {
          "base_uri": "https://localhost:8080/"
        },
        "outputId": "def1abfa-7d9e-4e8b-b80c-ea984c2310fe"
      },
      "outputs": [
        {
          "output_type": "stream",
          "name": "stdout",
          "text": [
            "File downloaded to /content/winequality-white.csv\n",
            "+-------------+----------------+-----------+--------------+---------+-------------------+--------------------+-------+----+---------+-------+-------+\n",
            "|fixed acidity|volatile acidity|citric acid|residual sugar|chlorides|free sulfur dioxide|total sulfur dioxide|density|  pH|sulphates|alcohol|quality|\n",
            "+-------------+----------------+-----------+--------------+---------+-------------------+--------------------+-------+----+---------+-------+-------+\n",
            "|          7.0|            0.27|       0.36|          20.7|    0.045|               45.0|               170.0|  1.001| 3.0|     0.45|    8.8|      6|\n",
            "|          6.3|             0.3|       0.34|           1.6|    0.049|               14.0|               132.0|  0.994| 3.3|     0.49|    9.5|      6|\n",
            "|          8.1|            0.28|        0.4|           6.9|     0.05|               30.0|                97.0| 0.9951|3.26|     0.44|   10.1|      6|\n",
            "|          7.2|            0.23|       0.32|           8.5|    0.058|               47.0|               186.0| 0.9956|3.19|      0.4|    9.9|      6|\n",
            "|          7.2|            0.23|       0.32|           8.5|    0.058|               47.0|               186.0| 0.9956|3.19|      0.4|    9.9|      6|\n",
            "+-------------+----------------+-----------+--------------+---------+-------------------+--------------------+-------+----+---------+-------+-------+\n",
            "only showing top 5 rows\n",
            "\n",
            "+-------+------------------+-------------------+-------------------+-----------------+--------------------+-------------------+--------------------+--------------------+-------------------+-------------------+------------------+------------------+\n",
            "|summary|     fixed acidity|   volatile acidity|        citric acid|   residual sugar|           chlorides|free sulfur dioxide|total sulfur dioxide|             density|                 pH|          sulphates|           alcohol|           quality|\n",
            "+-------+------------------+-------------------+-------------------+-----------------+--------------------+-------------------+--------------------+--------------------+-------------------+-------------------+------------------+------------------+\n",
            "|  count|              4898|               4898|               4898|             4898|                4898|               4898|                4898|                4898|               4898|               4898|              4898|              4898|\n",
            "|   mean| 6.854787668436075|0.27824111882401087|0.33419150673743736|6.391414863209486|  0.0457723560636995|  35.30808493262556|  138.36065741118824|  0.9940273764801896| 3.1882666394446693| 0.4898468762760325|10.514267047774638|  5.87790935075541|\n",
            "| stddev|0.8438682276875127|0.10079454842486532|0.12101980420298254|5.072057784014878|0.021847968093728805|  17.00713732523259|  42.498064554142985|0.002990906916936997|0.15100059961506673|0.11412583394883222|  1.23062056775732|0.8856385749678322|\n",
            "|    min|               3.8|               0.08|                0.0|              0.6|               0.009|                2.0|                 9.0|             0.98711|               2.72|               0.22|               8.0|                 3|\n",
            "|    max|              14.2|                1.1|               1.66|             65.8|               0.346|              289.0|               440.0|             1.03898|               3.82|               1.08|              14.2|                 9|\n",
            "+-------+------------------+-------------------+-------------------+-----------------+--------------------+-------------------+--------------------+--------------------+-------------------+-------------------+------------------+------------------+\n",
            "\n"
          ]
        }
      ],
      "source": [
        "# URL of the dataset\n",
        "url = \"https://archive.ics.uci.edu/ml/machine-learning-databases/wine-quality/winequality-white.csv\"\n",
        "\n",
        "# Download the file locally first (since Spark can't read directly from HTTP URLs)\n",
        "import requests\n",
        "import os\n",
        "\n",
        "# Create a local file path\n",
        "local_file_path = \"winequality-white.csv\"\n",
        "\n",
        "# Download the file\n",
        "response = requests.get(url)\n",
        "with open(local_file_path, \"wb\") as file:\n",
        "    file.write(response.content)\n",
        "\n",
        "print(f\"File downloaded to {os.path.abspath(local_file_path)}\")\n",
        "\n",
        "# Import the dataset from the local file\n",
        "rawDF = spark.read \\\n",
        "    .option(\"header\", \"true\") \\\n",
        "    .option(\"inferSchema\", \"true\") \\\n",
        "    .option(\"sep\", \";\") \\\n",
        "    .csv(local_file_path)\n",
        "\n",
        "# Display the first few rows\n",
        "rawDF.show(5)\n",
        "\n",
        "# Basic statistics\n",
        "rawDF.describe().show()"
      ]
    },
    {
      "cell_type": "markdown",
      "metadata": {
        "id": "Nfzbw0aiRvh5"
      },
      "source": [
        "## Rename quality to label"
      ]
    },
    {
      "cell_type": "code",
      "execution_count": null,
      "metadata": {
        "id": "STj5GfP3Rvh5",
        "colab": {
          "base_uri": "https://localhost:8080/"
        },
        "outputId": "dfa6161c-dc3e-4b28-bb65-e5ad345bd393"
      },
      "outputs": [
        {
          "output_type": "stream",
          "name": "stdout",
          "text": [
            "+-------------+----------------+-----------+--------------+---------+-------------------+--------------------+-------+----+---------+-------+-----+\n",
            "|fixed acidity|volatile acidity|citric acid|residual sugar|chlorides|free sulfur dioxide|total sulfur dioxide|density|  pH|sulphates|alcohol|label|\n",
            "+-------------+----------------+-----------+--------------+---------+-------------------+--------------------+-------+----+---------+-------+-----+\n",
            "|          7.0|            0.27|       0.36|          20.7|    0.045|               45.0|               170.0|  1.001| 3.0|     0.45|    8.8|    6|\n",
            "|          6.3|             0.3|       0.34|           1.6|    0.049|               14.0|               132.0|  0.994| 3.3|     0.49|    9.5|    6|\n",
            "|          8.1|            0.28|        0.4|           6.9|     0.05|               30.0|                97.0| 0.9951|3.26|     0.44|   10.1|    6|\n",
            "|          7.2|            0.23|       0.32|           8.5|    0.058|               47.0|               186.0| 0.9956|3.19|      0.4|    9.9|    6|\n",
            "|          7.2|            0.23|       0.32|           8.5|    0.058|               47.0|               186.0| 0.9956|3.19|      0.4|    9.9|    6|\n",
            "+-------------+----------------+-----------+--------------+---------+-------------------+--------------------+-------+----+---------+-------+-----+\n",
            "only showing top 5 rows\n",
            "\n"
          ]
        }
      ],
      "source": [
        "# Rename the target column to 'label' for ML compatibility\n",
        "df = rawDF.withColumnRenamed(\"quality\", \"label\")\n",
        "df.show(5)"
      ]
    },
    {
      "cell_type": "markdown",
      "metadata": {
        "id": "CVA7L-cPRvh5"
      },
      "source": [
        "## Pipeline Approach: Creating and Using Classification Pipelines"
      ]
    },
    {
      "cell_type": "code",
      "execution_count": null,
      "metadata": {
        "id": "0DIqw6eARvh5",
        "colab": {
          "base_uri": "https://localhost:8080/"
        },
        "outputId": "92ac6997-2098-43bb-c72a-cc958c5a8d5b"
      },
      "outputs": [
        {
          "output_type": "stream",
          "name": "stdout",
          "text": [
            "Training set size: 3916\n",
            "Test set size: 982\n",
            "Training Logistic Regression Pipeline...\n",
            "Training Decision Tree Pipeline...\n",
            "Training Random Forest Pipeline...\n"
          ]
        }
      ],
      "source": [
        "# Split the data first\n",
        "train_data, test_data = df.randomSplit([0.8, 0.2], seed=123)\n",
        "print(f\"Training set size: {train_data.count()}\")\n",
        "print(f\"Test set size: {test_data.count()}\")\n",
        "\n",
        "# Define feature columns (all columns except 'label')\n",
        "featureCols = [col for col in df.columns if col != \"label\"]\n",
        "\n",
        "# Step 1: Create the feature assembler\n",
        "assembler = VectorAssembler(inputCols=featureCols, outputCol=\"features\")\n",
        "\n",
        "# Step 2: Create different model instances\n",
        "lr = LogisticRegression(featuresCol=\"features\", labelCol=\"label\")\n",
        "dt = DecisionTreeClassifier(featuresCol=\"features\", labelCol=\"label\")\n",
        "rf = RandomForestClassifier(featuresCol=\"features\", labelCol=\"label\")\n",
        "\n",
        "# Step 3: Create pipeline instances for each model\n",
        "lr_pipeline = Pipeline(stages=[assembler, lr])\n",
        "dt_pipeline = Pipeline(stages=[assembler, dt])\n",
        "rf_pipeline = Pipeline(stages=[assembler, rf])\n",
        "\n",
        "# Step 4: Train the pipelines\n",
        "print(\"Training Logistic Regression Pipeline...\")\n",
        "lr_model = lr_pipeline.fit(train_data)\n",
        "\n",
        "print(\"Training Decision Tree Pipeline...\")\n",
        "dt_model = dt_pipeline.fit(train_data)\n",
        "\n",
        "print(\"Training Random Forest Pipeline...\")\n",
        "rf_model = rf_pipeline.fit(train_data)"
      ]
    },
    {
      "cell_type": "markdown",
      "metadata": {
        "id": "sTrl2ig_Rvh6"
      },
      "source": [
        "## Evaluating Pipeline Models"
      ]
    },
    {
      "cell_type": "code",
      "execution_count": null,
      "metadata": {
        "id": "JEp1IekbRvh6",
        "colab": {
          "base_uri": "https://localhost:8080/"
        },
        "outputId": "94fdc3bf-012e-4341-af0d-8958fb5eb02d"
      },
      "outputs": [
        {
          "output_type": "stream",
          "name": "stdout",
          "text": [
            "\n",
            "Logistic Regression Metrics:\n",
            "Accuracy: 0.5071\n",
            "F1 Score: 0.4741\n",
            "Precision: 0.5016\n",
            "Recall: 0.5071\n",
            "----------------------------------------\n",
            "\n",
            "Decision Tree Metrics:\n",
            "Accuracy: 0.5061\n",
            "F1 Score: 0.4744\n",
            "Precision: 0.4990\n",
            "Recall: 0.5061\n",
            "----------------------------------------\n",
            "\n",
            "Random Forest Metrics:\n",
            "Accuracy: 0.5346\n",
            "F1 Score: 0.4886\n",
            "Precision: 0.5059\n",
            "Recall: 0.5346\n",
            "----------------------------------------\n"
          ]
        }
      ],
      "source": [
        "# Create an evaluator for classification models\n",
        "evaluator = MulticlassClassificationEvaluator(\n",
        "    labelCol=\"label\",\n",
        "    predictionCol=\"prediction\"\n",
        ")\n",
        "\n",
        "# Get predictions from each model\n",
        "lr_predictions = lr_model.transform(test_data)\n",
        "dt_predictions = dt_model.transform(test_data)\n",
        "rf_predictions = rf_model.transform(test_data)\n",
        "\n",
        "# Calculate metrics for each model\n",
        "models = [\"Logistic Regression\", \"Decision Tree\", \"Random Forest\"]\n",
        "predictions = [lr_predictions, dt_predictions, rf_predictions]\n",
        "\n",
        "for model_name, pred_df in zip(models, predictions):\n",
        "    accuracy = evaluator.setMetricName(\"accuracy\").evaluate(pred_df)\n",
        "    f1 = evaluator.setMetricName(\"f1\").evaluate(pred_df)\n",
        "    precision = evaluator.setMetricName(\"weightedPrecision\").evaluate(pred_df)\n",
        "    recall = evaluator.setMetricName(\"weightedRecall\").evaluate(pred_df)\n",
        "\n",
        "    print(f\"\\n{model_name} Metrics:\")\n",
        "    print(f\"Accuracy: {accuracy:.4f}\")\n",
        "    print(f\"F1 Score: {f1:.4f}\")\n",
        "    print(f\"Precision: {precision:.4f}\")\n",
        "    print(f\"Recall: {recall:.4f}\")\n",
        "    print(\"-\" * 40)"
      ]
    },
    {
      "cell_type": "markdown",
      "metadata": {
        "id": "WmY5Q8tpRvh6"
      },
      "source": [
        "## Pipeline Approach: Linear Regression"
      ]
    },
    {
      "cell_type": "code",
      "execution_count": null,
      "metadata": {
        "id": "sClKm8lzRvh6",
        "colab": {
          "base_uri": "https://localhost:8080/"
        },
        "outputId": "3d383c4c-d3ca-493a-aa8c-1306cf4c2da6"
      },
      "outputs": [
        {
          "output_type": "stream",
          "name": "stdout",
          "text": [
            "Training Linear Regression Pipeline...\n",
            "\n",
            "Linear Regression Metrics:\n",
            "RMSE: 0.7550\n",
            "MAE: 0.6026\n",
            "R²: 0.3112\n"
          ]
        }
      ],
      "source": [
        "# Create a Linear Regression model\n",
        "lr_reg = LinearRegression(featuresCol=\"features\", labelCol=\"label\")\n",
        "\n",
        "# Create a regression pipeline\n",
        "reg_pipeline = Pipeline(stages=[assembler, lr_reg])\n",
        "\n",
        "# Train the regression pipeline\n",
        "print(\"Training Linear Regression Pipeline...\")\n",
        "reg_model = reg_pipeline.fit(train_data)\n",
        "\n",
        "# Make predictions\n",
        "reg_predictions = reg_model.transform(test_data)\n",
        "\n",
        "# Evaluate\n",
        "reg_evaluator = RegressionEvaluator(labelCol=\"label\", predictionCol=\"prediction\")\n",
        "\n",
        "rmse = reg_evaluator.setMetricName(\"rmse\").evaluate(reg_predictions)\n",
        "mae = reg_evaluator.setMetricName(\"mae\").evaluate(reg_predictions)\n",
        "r2 = reg_evaluator.setMetricName(\"r2\").evaluate(reg_predictions)\n",
        "\n",
        "print(\"\\nLinear Regression Metrics:\")\n",
        "print(f\"RMSE: {rmse:.4f}\")\n",
        "print(f\"MAE: {mae:.4f}\")\n",
        "print(f\"R²: {r2:.4f}\")"
      ]
    },
    {
      "cell_type": "markdown",
      "metadata": {
        "id": "aeiN8pEcRvh6"
      },
      "source": [
        "## Hyperparameter Tuning with Pipelines"
      ]
    },
    {
      "cell_type": "code",
      "execution_count": null,
      "metadata": {
        "id": "h7TVa38WRvh6",
        "colab": {
          "base_uri": "https://localhost:8080/"
        },
        "outputId": "34969953-3c92-496e-da10-69c3c5b07ebf"
      },
      "outputs": [
        {
          "output_type": "stream",
          "name": "stdout",
          "text": [
            "Training model with cross-validation...\n",
            "\n",
            "Best RandomForest Parameters:\n",
            "Number of Trees: 30\n",
            "Max Depth: 10\n",
            "\n",
            "Test Accuracy of Best Model: 0.6120\n"
          ]
        }
      ],
      "source": [
        "# Create a Random Forest model with parameters to tune\n",
        "rf_tuning = RandomForestClassifier(featuresCol=\"features\", labelCol=\"label\")\n",
        "\n",
        "# Create a pipeline for tuning\n",
        "pipeline = Pipeline(stages=[assembler, rf_tuning])\n",
        "\n",
        "# Create parameter grid\n",
        "paramGrid = ParamGridBuilder() \\\n",
        "    .addGrid(rf_tuning.numTrees, [10, 20, 30]) \\\n",
        "    .addGrid(rf_tuning.maxDepth, [5, 10]) \\\n",
        "    .build()\n",
        "\n",
        "# Create evaluator\n",
        "evaluator = MulticlassClassificationEvaluator(\n",
        "    labelCol=\"label\",\n",
        "    predictionCol=\"prediction\",\n",
        "    metricName=\"accuracy\"\n",
        ")\n",
        "\n",
        "# Create the cross-validator\n",
        "crossval = CrossValidator(\n",
        "    estimator=pipeline,\n",
        "    estimatorParamMaps=paramGrid,\n",
        "    evaluator=evaluator,\n",
        "    numFolds=3\n",
        ")\n",
        "\n",
        "# Train with cross-validation\n",
        "print(\"Training model with cross-validation...\")\n",
        "cv_model = crossval.fit(train_data)\n",
        "\n",
        "# Get the best model\n",
        "best_model = cv_model.bestModel\n",
        "\n",
        "# Get parameters of the best model\n",
        "best_rf_model = best_model.stages[-1]  # The RandomForestClassifier is the last stage\n",
        "print(f\"\\nBest RandomForest Parameters:\")\n",
        "print(f\"Number of Trees: {best_rf_model.getNumTrees}\")\n",
        "print(f\"Max Depth: {best_rf_model.getMaxDepth()}\")\n",
        "\n",
        "# Evaluate on test set\n",
        "cv_predictions = best_model.transform(test_data)\n",
        "cv_accuracy = evaluator.evaluate(cv_predictions)\n",
        "print(f\"\\nTest Accuracy of Best Model: {cv_accuracy:.4f}\")"
      ]
    },
    {
      "cell_type": "markdown",
      "metadata": {
        "id": "b1bzTXVORvh6"
      },
      "source": [
        "## Feature Importance Analysis with Best Model"
      ]
    },
    {
      "cell_type": "code",
      "execution_count": null,
      "metadata": {
        "id": "RxWkPh4ZRvh7",
        "colab": {
          "base_uri": "https://localhost:8080/"
        },
        "outputId": "e580a840-012b-486a-aa8d-66ecd64fe8b9"
      },
      "outputs": [
        {
          "output_type": "stream",
          "name": "stdout",
          "text": [
            "Feature Importances from Best Random Forest Model:\n",
            "alcohol: 0.1566\n",
            "volatile acidity: 0.1282\n",
            "free sulfur dioxide: 0.0930\n",
            "chlorides: 0.0837\n",
            "pH: 0.0825\n",
            "fixed acidity: 0.0822\n",
            "density: 0.0800\n",
            "total sulfur dioxide: 0.0779\n",
            "sulphates: 0.0747\n",
            "citric acid: 0.0747\n",
            "residual sugar: 0.0666\n"
          ]
        }
      ],
      "source": [
        "# Extract feature importances from the best Random Forest model\n",
        "best_rf = best_model.stages[-1]\n",
        "feature_importances = list(zip(featureCols, best_rf.featureImportances.toArray()))\n",
        "sorted_importances = sorted(feature_importances, key=lambda x: x[1], reverse=True)\n",
        "\n",
        "print(\"Feature Importances from Best Random Forest Model:\")\n",
        "for feature, importance in sorted_importances:\n",
        "    print(f\"{feature}: {importance:.4f}\")"
      ]
    },
    {
      "cell_type": "markdown",
      "metadata": {
        "id": "l1vcY71ORvh7"
      },
      "source": [
        "## Saving and Loading Pipeline Models"
      ]
    },
    {
      "cell_type": "code",
      "execution_count": null,
      "metadata": {
        "id": "EutZa9V8Rvh7",
        "colab": {
          "base_uri": "https://localhost:8080/"
        },
        "outputId": "36a61d98-9156-4a7c-9c35-5ee13d3c140f"
      },
      "outputs": [
        {
          "output_type": "stream",
          "name": "stdout",
          "text": [
            "+-----+----------+\n",
            "|label|prediction|\n",
            "+-----+----------+\n",
            "|    7|       7.0|\n",
            "|    7|       7.0|\n",
            "|    5|       6.0|\n",
            "|    6|       7.0|\n",
            "|    7|       6.0|\n",
            "+-----+----------+\n",
            "\n",
            "\n",
            "Model pipeline successfully saved and loaded!\n"
          ]
        }
      ],
      "source": [
        "# Save the best model pipeline\n",
        "pipeline_path = \"wine_quality_pipeline_model\"\n",
        "best_model.write().overwrite().save(pipeline_path)\n",
        "\n",
        "# Load the pipeline model\n",
        "from pyspark.ml import PipelineModel\n",
        "loaded_model = PipelineModel.load(pipeline_path)\n",
        "\n",
        "# Test the loaded model\n",
        "loaded_predictions = loaded_model.transform(test_data.limit(5))\n",
        "loaded_predictions.select(\"label\", \"prediction\").show()\n",
        "\n",
        "print(\"\\nModel pipeline successfully saved and loaded!\")"
      ]
    }
  ],
  "metadata": {
    "kernelspec": {
      "display_name": "Python 3",
      "language": "python",
      "name": "python3"
    },
    "language_info": {
      "codemirror_mode": {
        "name": "ipython",
        "version": 3
      },
      "file_extension": ".py",
      "mimetype": "text/x-python",
      "name": "python",
      "nbconvert_exporter": "python",
      "pygments_lexer": "ipython3",
      "version": "3.8.10"
    },
    "colab": {
      "provenance": []
    }
  },
  "nbformat": 4,
  "nbformat_minor": 0
}